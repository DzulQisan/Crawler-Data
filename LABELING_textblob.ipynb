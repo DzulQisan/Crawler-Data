{
 "cells": [
  {
   "cell_type": "markdown",
   "metadata": {},
   "source": [
    "# Load Data"
   ]
  },
  {
   "cell_type": "code",
   "execution_count": 1,
   "metadata": {},
   "outputs": [],
   "source": [
    "# import libraries\n",
    "import pandas as pd\n",
    "import seaborn as sns\n",
    "import matplotlib.pyplot as plt\n",
    "%matplotlib inline\n",
    "import warnings\n",
    "warnings.filterwarnings('ignore')"
   ]
  },
  {
   "cell_type": "code",
   "execution_count": 2,
   "metadata": {},
   "outputs": [
    {
     "data": {
      "text/html": [
       "<div>\n",
       "<style scoped>\n",
       "    .dataframe tbody tr th:only-of-type {\n",
       "        vertical-align: middle;\n",
       "    }\n",
       "\n",
       "    .dataframe tbody tr th {\n",
       "        vertical-align: top;\n",
       "    }\n",
       "\n",
       "    .dataframe thead th {\n",
       "        text-align: right;\n",
       "    }\n",
       "</style>\n",
       "<table border=\"1\" class=\"dataframe\">\n",
       "  <thead>\n",
       "    <tr style=\"text-align: right;\">\n",
       "      <th></th>\n",
       "      <th>full_text</th>\n",
       "      <th>cleansing</th>\n",
       "      <th>Tokenization and Case Folding</th>\n",
       "      <th>Filtering / Stopword removal</th>\n",
       "      <th>stemming_data</th>\n",
       "    </tr>\n",
       "  </thead>\n",
       "  <tbody>\n",
       "    <tr>\n",
       "      <th>390</th>\n",
       "      <td>Badan panas bgt, kepala masih puyeng aja ga en...</td>\n",
       "      <td>Badan panas bgt kepala masih puyeng aja ga ena...</td>\n",
       "      <td>['badan', 'panas', 'bgt', 'kepala', 'masih', '...</td>\n",
       "      <td>['badan', 'panas', 'bgt', 'kepala', 'puyeng', ...</td>\n",
       "      <td>badan panas bgt kepala puyeng aja ga enak bgt</td>\n",
       "    </tr>\n",
       "    <tr>\n",
       "      <th>312</th>\n",
       "      <td>Luque y Lasso,tus panas,son mafiosos comprobad...</td>\n",
       "      <td>Luque y Lassotus panasson mafiosos comprobados...</td>\n",
       "      <td>['luque', 'y', 'lassotus', 'panasson', 'mafios...</td>\n",
       "      <td>['luque', 'y', 'lassotus', 'panasson', 'mafios...</td>\n",
       "      <td>luque y lassotus panasson mafiosos comprobados...</td>\n",
       "    </tr>\n",
       "    <tr>\n",
       "      <th>337</th>\n",
       "      <td>@NotiUno Comprando votos que desesperados esta...</td>\n",
       "      <td>NotiUno Comprando votos que desesperados estan...</td>\n",
       "      <td>['notiuno', 'comprando', 'votos', 'que', 'dese...</td>\n",
       "      <td>['notiuno', 'comprando', 'votos', 'que', 'dese...</td>\n",
       "      <td>notiuno comprando votos que desesperados estan...</td>\n",
       "    </tr>\n",
       "    <tr>\n",
       "      <th>238</th>\n",
       "      <td>@ustdagus @fajarnugros Temen gw nyebutnya Liam...</td>\n",
       "      <td>ustdagus fajarnugros Temen gw nyebutnya Liam G...</td>\n",
       "      <td>['ustdagus', 'fajarnugros', 'temen', 'gw', 'ny...</td>\n",
       "      <td>['ustdagus', 'fajarnugros', 'temen', 'gw', 'ny...</td>\n",
       "      <td>ustdagus fajarnugros temen gw nyebutnya liam g...</td>\n",
       "    </tr>\n",
       "    <tr>\n",
       "      <th>320</th>\n",
       "      <td>Season of warmth? Di Indonesia bukannya cuacan...</td>\n",
       "      <td>Season of warmth Di Indonesia bukannya cuacany...</td>\n",
       "      <td>['season', 'of', 'warmth', 'di', 'indonesia', ...</td>\n",
       "      <td>['season', 'of', 'warmth', 'indonesia', 'cuaca...</td>\n",
       "      <td>season of warmth indonesia cuaca panas panas b...</td>\n",
       "    </tr>\n",
       "  </tbody>\n",
       "</table>\n",
       "</div>"
      ],
      "text/plain": [
       "                                             full_text  \\\n",
       "390  Badan panas bgt, kepala masih puyeng aja ga en...   \n",
       "312  Luque y Lasso,tus panas,son mafiosos comprobad...   \n",
       "337  @NotiUno Comprando votos que desesperados esta...   \n",
       "238  @ustdagus @fajarnugros Temen gw nyebutnya Liam...   \n",
       "320  Season of warmth? Di Indonesia bukannya cuacan...   \n",
       "\n",
       "                                             cleansing  \\\n",
       "390  Badan panas bgt kepala masih puyeng aja ga ena...   \n",
       "312  Luque y Lassotus panasson mafiosos comprobados...   \n",
       "337  NotiUno Comprando votos que desesperados estan...   \n",
       "238  ustdagus fajarnugros Temen gw nyebutnya Liam G...   \n",
       "320  Season of warmth Di Indonesia bukannya cuacany...   \n",
       "\n",
       "                         Tokenization and Case Folding  \\\n",
       "390  ['badan', 'panas', 'bgt', 'kepala', 'masih', '...   \n",
       "312  ['luque', 'y', 'lassotus', 'panasson', 'mafios...   \n",
       "337  ['notiuno', 'comprando', 'votos', 'que', 'dese...   \n",
       "238  ['ustdagus', 'fajarnugros', 'temen', 'gw', 'ny...   \n",
       "320  ['season', 'of', 'warmth', 'di', 'indonesia', ...   \n",
       "\n",
       "                          Filtering / Stopword removal  \\\n",
       "390  ['badan', 'panas', 'bgt', 'kepala', 'puyeng', ...   \n",
       "312  ['luque', 'y', 'lassotus', 'panasson', 'mafios...   \n",
       "337  ['notiuno', 'comprando', 'votos', 'que', 'dese...   \n",
       "238  ['ustdagus', 'fajarnugros', 'temen', 'gw', 'ny...   \n",
       "320  ['season', 'of', 'warmth', 'indonesia', 'cuaca...   \n",
       "\n",
       "                                         stemming_data  \n",
       "390      badan panas bgt kepala puyeng aja ga enak bgt  \n",
       "312  luque y lassotus panasson mafiosos comprobados...  \n",
       "337  notiuno comprando votos que desesperados estan...  \n",
       "238  ustdagus fajarnugros temen gw nyebutnya liam g...  \n",
       "320  season of warmth indonesia cuaca panas panas b...  "
      ]
     },
     "execution_count": 2,
     "metadata": {},
     "output_type": "execute_result"
    }
   ],
   "source": [
    "path = 'I:\\data_analyst\\Data Crawler\\Data x 1\\Hasil_Preprocessing_DataPanasBumi.csv'\n",
    "df = pd.read_csv(path)\n",
    "df.sample(5)"
   ]
  },
  {
   "cell_type": "code",
   "execution_count": 3,
   "metadata": {},
   "outputs": [
    {
     "name": "stdout",
     "output_type": "stream",
     "text": [
      "<class 'pandas.core.frame.DataFrame'>\n",
      "RangeIndex: 445 entries, 0 to 444\n",
      "Data columns (total 5 columns):\n",
      " #   Column                         Non-Null Count  Dtype \n",
      "---  ------                         --------------  ----- \n",
      " 0   full_text                      445 non-null    object\n",
      " 1   cleansing                      445 non-null    object\n",
      " 2   Tokenization and Case Folding  445 non-null    object\n",
      " 3   Filtering / Stopword removal   445 non-null    object\n",
      " 4   stemming_data                  445 non-null    object\n",
      "dtypes: object(5)\n",
      "memory usage: 17.5+ KB\n"
     ]
    }
   ],
   "source": [
    "df.info()"
   ]
  },
  {
   "cell_type": "code",
   "execution_count": 4,
   "metadata": {},
   "outputs": [
    {
     "name": "stdout",
     "output_type": "stream",
     "text": [
      "<class 'pandas.core.frame.DataFrame'>\n"
     ]
    },
    {
     "data": {
      "text/html": [
       "<div>\n",
       "<style scoped>\n",
       "    .dataframe tbody tr th:only-of-type {\n",
       "        vertical-align: middle;\n",
       "    }\n",
       "\n",
       "    .dataframe tbody tr th {\n",
       "        vertical-align: top;\n",
       "    }\n",
       "\n",
       "    .dataframe thead th {\n",
       "        text-align: right;\n",
       "    }\n",
       "</style>\n",
       "<table border=\"1\" class=\"dataframe\">\n",
       "  <thead>\n",
       "    <tr style=\"text-align: right;\">\n",
       "      <th></th>\n",
       "      <th>stemming_data</th>\n",
       "    </tr>\n",
       "  </thead>\n",
       "  <tbody>\n",
       "    <tr>\n",
       "      <th>4</th>\n",
       "      <td>teknologi nama payung topi drpd jpo diatapin m...</td>\n",
       "    </tr>\n",
       "    <tr>\n",
       "      <th>443</th>\n",
       "      <td>pdhl gue udh nasehatin ninggalin barang panas ...</td>\n",
       "    </tr>\n",
       "    <tr>\n",
       "      <th>393</th>\n",
       "      <td>ment por mis panas doy la ultima gota de mi sa...</td>\n",
       "    </tr>\n",
       "    <tr>\n",
       "      <th>423</th>\n",
       "      <td>salir con los panas es estar dici ndole vamos ...</td>\n",
       "    </tr>\n",
       "    <tr>\n",
       "      <th>65</th>\n",
       "      <td>makan makan panas dah set ok je nak makan past...</td>\n",
       "    </tr>\n",
       "  </tbody>\n",
       "</table>\n",
       "</div>"
      ],
      "text/plain": [
       "                                         stemming_data\n",
       "4    teknologi nama payung topi drpd jpo diatapin m...\n",
       "443  pdhl gue udh nasehatin ninggalin barang panas ...\n",
       "393  ment por mis panas doy la ultima gota de mi sa...\n",
       "423  salir con los panas es estar dici ndole vamos ...\n",
       "65   makan makan panas dah set ok je nak makan past..."
      ]
     },
     "execution_count": 4,
     "metadata": {},
     "output_type": "execute_result"
    }
   ],
   "source": [
    "df = pd.DataFrame(df['stemming_data'])\n",
    "print(type(df))\n",
    "df.sample(5)"
   ]
  },
  {
   "cell_type": "code",
   "execution_count": 6,
   "metadata": {},
   "outputs": [
    {
     "name": "stdout",
     "output_type": "stream",
     "text": [
      "Collecting textblob\n",
      "  Obtaining dependency information for textblob from https://files.pythonhosted.org/packages/02/07/5fd2945356dd839974d3a25de8a142dc37293c21315729a41e775b5f3569/textblob-0.18.0.post0-py3-none-any.whl.metadata\n",
      "  Downloading textblob-0.18.0.post0-py3-none-any.whl.metadata (4.5 kB)\n",
      "Requirement already satisfied: nltk>=3.8 in c:\\users\\user\\anaconda3\\lib\\site-packages (from textblob) (3.8.1)\n",
      "Requirement already satisfied: click in c:\\users\\user\\anaconda3\\lib\\site-packages (from nltk>=3.8->textblob) (8.0.4)\n",
      "Requirement already satisfied: joblib in c:\\users\\user\\anaconda3\\lib\\site-packages (from nltk>=3.8->textblob) (1.2.0)\n",
      "Requirement already satisfied: regex>=2021.8.3 in c:\\users\\user\\anaconda3\\lib\\site-packages (from nltk>=3.8->textblob) (2022.7.9)\n",
      "Requirement already satisfied: tqdm in c:\\users\\user\\anaconda3\\lib\\site-packages (from nltk>=3.8->textblob) (4.65.0)\n",
      "Requirement already satisfied: colorama in c:\\users\\user\\appdata\\roaming\\python\\python311\\site-packages (from click->nltk>=3.8->textblob) (0.4.6)\n",
      "Downloading textblob-0.18.0.post0-py3-none-any.whl (626 kB)\n",
      "   ---------------------------------------- 0.0/626.3 kB ? eta -:--:--\n",
      "   ----- ---------------------------------- 92.2/626.3 kB 2.6 MB/s eta 0:00:01\n",
      "   ------------------ --------------------- 286.7/626.3 kB 3.5 MB/s eta 0:00:01\n",
      "   ---------------------------------- ----- 532.5/626.3 kB 4.2 MB/s eta 0:00:01\n",
      "   ---------------------------------------  614.4/626.3 kB 4.3 MB/s eta 0:00:01\n",
      "   ---------------------------------------- 626.3/626.3 kB 3.3 MB/s eta 0:00:00\n",
      "Installing collected packages: textblob\n",
      "Successfully installed textblob-0.18.0.post0\n"
     ]
    }
   ],
   "source": [
    "# !pip install textblob"
   ]
  },
  {
   "cell_type": "code",
   "execution_count": 7,
   "metadata": {},
   "outputs": [],
   "source": [
    "from textblob import TextBlob"
   ]
  },
  {
   "cell_type": "code",
   "execution_count": 10,
   "metadata": {},
   "outputs": [
    {
     "data": {
      "text/html": [
       "<div>\n",
       "<style scoped>\n",
       "    .dataframe tbody tr th:only-of-type {\n",
       "        vertical-align: middle;\n",
       "    }\n",
       "\n",
       "    .dataframe tbody tr th {\n",
       "        vertical-align: top;\n",
       "    }\n",
       "\n",
       "    .dataframe thead th {\n",
       "        text-align: right;\n",
       "    }\n",
       "</style>\n",
       "<table border=\"1\" class=\"dataframe\">\n",
       "  <thead>\n",
       "    <tr style=\"text-align: right;\">\n",
       "      <th></th>\n",
       "      <th>stemming_data</th>\n",
       "      <th>sentiment_score</th>\n",
       "      <th>sentiment</th>\n",
       "    </tr>\n",
       "  </thead>\n",
       "  <tbody>\n",
       "    <tr>\n",
       "      <th>77</th>\n",
       "      <td>chipng domm ku panas asli</td>\n",
       "      <td>0.000000</td>\n",
       "      <td>netral</td>\n",
       "    </tr>\n",
       "    <tr>\n",
       "      <th>156</th>\n",
       "      <td>gua jg tuju trotoar jpo atap batam pohon gede ...</td>\n",
       "      <td>0.000000</td>\n",
       "      <td>netral</td>\n",
       "    </tr>\n",
       "    <tr>\n",
       "      <th>386</th>\n",
       "      <td>thabruh vi algo que desear a no haber visto ht...</td>\n",
       "      <td>0.000000</td>\n",
       "      <td>netral</td>\n",
       "    </tr>\n",
       "    <tr>\n",
       "      <th>372</th>\n",
       "      <td>cari kos deket kantor minimal jarak tempuh gak...</td>\n",
       "      <td>-0.133333</td>\n",
       "      <td>negatif</td>\n",
       "    </tr>\n",
       "    <tr>\n",
       "      <th>267</th>\n",
       "      <td>pixelgyu iiih gapapa ga kak perutnyaa panas mu...</td>\n",
       "      <td>0.000000</td>\n",
       "      <td>netral</td>\n",
       "    </tr>\n",
       "  </tbody>\n",
       "</table>\n",
       "</div>"
      ],
      "text/plain": [
       "                                         stemming_data  sentiment_score  \\\n",
       "77                           chipng domm ku panas asli         0.000000   \n",
       "156  gua jg tuju trotoar jpo atap batam pohon gede ...         0.000000   \n",
       "386  thabruh vi algo que desear a no haber visto ht...         0.000000   \n",
       "372  cari kos deket kantor minimal jarak tempuh gak...        -0.133333   \n",
       "267  pixelgyu iiih gapapa ga kak perutnyaa panas mu...         0.000000   \n",
       "\n",
       "    sentiment  \n",
       "77     netral  \n",
       "156    netral  \n",
       "386    netral  \n",
       "372   negatif  \n",
       "267    netral  "
      ]
     },
     "execution_count": 10,
     "metadata": {},
     "output_type": "execute_result"
    }
   ],
   "source": [
    "labels = []\n",
    "scores = []\n",
    "\n",
    "for text in df['stemming_data']:\n",
    "    blob = TextBlob(text)\n",
    "    polarity = blob.sentiment.polarity\n",
    "\n",
    "    scores.append(polarity)\n",
    "\n",
    "    if polarity > 0:\n",
    "        label = 'positif'\n",
    "    elif polarity < 0:\n",
    "        label = 'negatif'\n",
    "    else:\n",
    "        label = 'netral'\n",
    "\n",
    "    labels.append(label)\n",
    "\n",
    "df['sentiment_score'] = scores\n",
    "df['sentiment'] = labels\n",
    "\n",
    "df.sample(5)"
   ]
  },
  {
   "cell_type": "markdown",
   "metadata": {},
   "source": [
    "# VISUALISASI DATA"
   ]
  },
  {
   "cell_type": "code",
   "execution_count": 11,
   "metadata": {},
   "outputs": [
    {
     "data": {
      "image/png": "[encoded data removed]",
      "text/plain": [
       "<Figure size 600x400 with 1 Axes>"
      ]
     },
     "metadata": {},
     "output_type": "display_data"
    }
   ],
   "source": [
    "sentiment_count = df['sentiment'].value_counts()\n",
    "\n",
    "# sns.set_style('whitegrid')\n",
    "\n",
    "fig, ax = plt.subplots(figsize=(6,4))\n",
    "ax = sns.barplot(x=sentiment_count.index, y=sentiment_count.values, palette='pastel')\n",
    "plt.title('Jumlah Analisis Sentimen', fontsize=14, pad=20)\n",
    "plt.xlabel('Class Sentiment', fontsize=12)\n",
    "plt.ylabel('Jumlah Tweet', fontsize=12)\n",
    "\n",
    "for i, count in enumerate(sentiment_count.values):\n",
    "    ax.text(i, count+0.10, str(count), va='bottom',ha='center')\n",
    "\n",
    "plt.show()"
   ]
  },
  {
   "cell_type": "markdown",
   "metadata": {},
   "source": [
    "# Save Data to CSV"
   ]
  },
  {
   "cell_type": "code",
   "execution_count": null,
   "metadata": {},
   "outputs": [],
   "source": [
    "df.to_csv('Hasil_Labeling_DataPanasBumi_textblob.csv', encoding='utf8', index=False)"
   ]
  }
 ],
 "metadata": {
  "kernelspec": {
   "display_name": "base",
   "language": "python",
   "name": "python3"
  },
  "language_info": {
   "codemirror_mode": {
    "name": "ipython",
    "version": 3
   },
   "file_extension": ".py",
   "mimetype": "text/x-python",
   "name": "python",
   "nbconvert_exporter": "python",
   "pygments_lexer": "ipython3",
   "version": "3.11.4"
  }
 },
 "nbformat": 4,
 "nbformat_minor": 2
}
