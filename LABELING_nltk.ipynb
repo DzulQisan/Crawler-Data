{
 "cells": [
  {
   "cell_type": "markdown",
   "metadata": {},
   "source": [
    "# Load Data"
   ]
  },
  {
   "cell_type": "code",
   "execution_count": 15,
   "metadata": {},
   "outputs": [],
   "source": [
    "# import libraries\n",
    "import pandas as pd\n",
    "import seaborn as sns\n",
    "import matplotlib.pyplot as plt\n",
    "%matplotlib inline\n",
    "import warnings\n",
    "warnings.filterwarnings('ignore')"
   ]
  },
  {
   "cell_type": "code",
   "execution_count": 7,
   "metadata": {},
   "outputs": [
    {
     "data": {
      "text/html": [
       "<div>\n",
       "<style scoped>\n",
       "    .dataframe tbody tr th:only-of-type {\n",
       "        vertical-align: middle;\n",
       "    }\n",
       "\n",
       "    .dataframe tbody tr th {\n",
       "        vertical-align: top;\n",
       "    }\n",
       "\n",
       "    .dataframe thead th {\n",
       "        text-align: right;\n",
       "    }\n",
       "</style>\n",
       "<table border=\"1\" class=\"dataframe\">\n",
       "  <thead>\n",
       "    <tr style=\"text-align: right;\">\n",
       "      <th></th>\n",
       "      <th>full_text</th>\n",
       "      <th>cleansing</th>\n",
       "      <th>Tokenization and Case Folding</th>\n",
       "      <th>Filtering / Stopword removal</th>\n",
       "      <th>stemming_data</th>\n",
       "    </tr>\n",
       "  </thead>\n",
       "  <tbody>\n",
       "    <tr>\n",
       "      <th>47</th>\n",
       "      <td>@SiKebongce @kczeuha @xxxaryadi @herricahyadi ...</td>\n",
       "      <td>SiKebongce kczeuha xxxaryadi herricahyadi pada...</td>\n",
       "      <td>['sikebongce', 'kczeuha', 'xxxaryadi', 'herric...</td>\n",
       "      <td>['sikebongce', 'kczeuha', 'xxxaryadi', 'herric...</td>\n",
       "      <td>sikebongce kczeuha xxxaryadi herricahyadi dulu...</td>\n",
       "    </tr>\n",
       "    <tr>\n",
       "      <th>67</th>\n",
       "      <td>Kenapa AC dirumah kalo hujan malah jadi panas ...</td>\n",
       "      <td>Kenapa AC dirumah kalo hujan malah jadi panas ...</td>\n",
       "      <td>['kenapa', 'ac', 'dirumah', 'kalo', 'hujan', '...</td>\n",
       "      <td>['ac', 'dirumah', 'kalo', 'hujan', 'panas', 'y...</td>\n",
       "      <td>ac rumah kalo hujan panas ya cuaca panas subha...</td>\n",
       "    </tr>\n",
       "    <tr>\n",
       "      <th>131</th>\n",
       "      <td>@hyunjinundip @undipmenfess kak mau tanya, ss ...</td>\n",
       "      <td>hyunjinundip undipmenfess kak mau tanya ss woo...</td>\n",
       "      <td>['hyunjinundip', 'undipmenfess', 'kak', 'mau',...</td>\n",
       "      <td>['hyunjinundip', 'undipmenfess', 'kak', 'ss', ...</td>\n",
       "      <td>hyunjinundip undipmenfess kak ss woolworths ra...</td>\n",
       "    </tr>\n",
       "    <tr>\n",
       "      <th>437</th>\n",
       "      <td>@Hioghak 🔷:... una lastima que no se hacer eso...</td>\n",
       "      <td>Hioghak  una lastima que no se hacer eso ya qu...</td>\n",
       "      <td>['hioghak', 'una', 'lastima', 'que', 'no', 'se...</td>\n",
       "      <td>['hioghak', 'una', 'lastima', 'que', 'no', 'ha...</td>\n",
       "      <td>hioghak una lastima que no hacer eso ya que ht...</td>\n",
       "    </tr>\n",
       "    <tr>\n",
       "      <th>33</th>\n",
       "      <td>@fayy_aja Pas lg panas kok, insyaallah amann</td>\n",
       "      <td>fayyaja Pas lg panas kok insyaallah amann</td>\n",
       "      <td>['fayyaja', 'pas', 'lg', 'panas', 'kok', 'insy...</td>\n",
       "      <td>['fayyaja', 'pas', 'lg', 'panas', 'insyaallah'...</td>\n",
       "      <td>fayyaja pas lg panas insyaallah amann</td>\n",
       "    </tr>\n",
       "  </tbody>\n",
       "</table>\n",
       "</div>"
      ],
      "text/plain": [
       "                                             full_text  \\\n",
       "47   @SiKebongce @kczeuha @xxxaryadi @herricahyadi ...   \n",
       "67   Kenapa AC dirumah kalo hujan malah jadi panas ...   \n",
       "131  @hyunjinundip @undipmenfess kak mau tanya, ss ...   \n",
       "437  @Hioghak 🔷:... una lastima que no se hacer eso...   \n",
       "33        @fayy_aja Pas lg panas kok, insyaallah amann   \n",
       "\n",
       "                                             cleansing  \\\n",
       "47   SiKebongce kczeuha xxxaryadi herricahyadi pada...   \n",
       "67   Kenapa AC dirumah kalo hujan malah jadi panas ...   \n",
       "131  hyunjinundip undipmenfess kak mau tanya ss woo...   \n",
       "437  Hioghak  una lastima que no se hacer eso ya qu...   \n",
       "33           fayyaja Pas lg panas kok insyaallah amann   \n",
       "\n",
       "                         Tokenization and Case Folding  \\\n",
       "47   ['sikebongce', 'kczeuha', 'xxxaryadi', 'herric...   \n",
       "67   ['kenapa', 'ac', 'dirumah', 'kalo', 'hujan', '...   \n",
       "131  ['hyunjinundip', 'undipmenfess', 'kak', 'mau',...   \n",
       "437  ['hioghak', 'una', 'lastima', 'que', 'no', 'se...   \n",
       "33   ['fayyaja', 'pas', 'lg', 'panas', 'kok', 'insy...   \n",
       "\n",
       "                          Filtering / Stopword removal  \\\n",
       "47   ['sikebongce', 'kczeuha', 'xxxaryadi', 'herric...   \n",
       "67   ['ac', 'dirumah', 'kalo', 'hujan', 'panas', 'y...   \n",
       "131  ['hyunjinundip', 'undipmenfess', 'kak', 'ss', ...   \n",
       "437  ['hioghak', 'una', 'lastima', 'que', 'no', 'ha...   \n",
       "33   ['fayyaja', 'pas', 'lg', 'panas', 'insyaallah'...   \n",
       "\n",
       "                                         stemming_data  \n",
       "47   sikebongce kczeuha xxxaryadi herricahyadi dulu...  \n",
       "67   ac rumah kalo hujan panas ya cuaca panas subha...  \n",
       "131  hyunjinundip undipmenfess kak ss woolworths ra...  \n",
       "437  hioghak una lastima que no hacer eso ya que ht...  \n",
       "33               fayyaja pas lg panas insyaallah amann  "
      ]
     },
     "execution_count": 7,
     "metadata": {},
     "output_type": "execute_result"
    }
   ],
   "source": [
    "path = 'I:\\data_analyst\\Data Crawler\\Data x 1\\Hasil_Preprocessing_DataPanasBumi.csv'\n",
    "df = pd.read_csv(path)\n",
    "df.sample(5)"
   ]
  },
  {
   "cell_type": "code",
   "execution_count": 8,
   "metadata": {},
   "outputs": [
    {
     "name": "stdout",
     "output_type": "stream",
     "text": [
      "<class 'pandas.core.frame.DataFrame'>\n",
      "RangeIndex: 445 entries, 0 to 444\n",
      "Data columns (total 5 columns):\n",
      " #   Column                         Non-Null Count  Dtype \n",
      "---  ------                         --------------  ----- \n",
      " 0   full_text                      445 non-null    object\n",
      " 1   cleansing                      445 non-null    object\n",
      " 2   Tokenization and Case Folding  445 non-null    object\n",
      " 3   Filtering / Stopword removal   445 non-null    object\n",
      " 4   stemming_data                  445 non-null    object\n",
      "dtypes: object(5)\n",
      "memory usage: 17.5+ KB\n"
     ]
    }
   ],
   "source": [
    "df.info()"
   ]
  },
  {
   "cell_type": "code",
   "execution_count": 9,
   "metadata": {},
   "outputs": [
    {
     "name": "stdout",
     "output_type": "stream",
     "text": [
      "<class 'pandas.core.frame.DataFrame'>\n"
     ]
    },
    {
     "data": {
      "text/html": [
       "<div>\n",
       "<style scoped>\n",
       "    .dataframe tbody tr th:only-of-type {\n",
       "        vertical-align: middle;\n",
       "    }\n",
       "\n",
       "    .dataframe tbody tr th {\n",
       "        vertical-align: top;\n",
       "    }\n",
       "\n",
       "    .dataframe thead th {\n",
       "        text-align: right;\n",
       "    }\n",
       "</style>\n",
       "<table border=\"1\" class=\"dataframe\">\n",
       "  <thead>\n",
       "    <tr style=\"text-align: right;\">\n",
       "      <th></th>\n",
       "      <th>stemming_data</th>\n",
       "    </tr>\n",
       "  </thead>\n",
       "  <tbody>\n",
       "    <tr>\n",
       "      <th>131</th>\n",
       "      <td>hyunjinundip undipmenfess kak ss woolworths ra...</td>\n",
       "    </tr>\n",
       "    <tr>\n",
       "      <th>176</th>\n",
       "      <td>mackinprof i ve had a bunch of patients that c...</td>\n",
       "    </tr>\n",
       "    <tr>\n",
       "      <th>187</th>\n",
       "      <td>claramente todo normal xdddd</td>\n",
       "    </tr>\n",
       "    <tr>\n",
       "      <th>336</th>\n",
       "      <td>convomfs wahahaha muncul kepala gua putus nger...</td>\n",
       "    </tr>\n",
       "    <tr>\n",
       "      <th>422</th>\n",
       "      <td>jam drive jaga saif mintak air lepas air nak t...</td>\n",
       "    </tr>\n",
       "  </tbody>\n",
       "</table>\n",
       "</div>"
      ],
      "text/plain": [
       "                                         stemming_data\n",
       "131  hyunjinundip undipmenfess kak ss woolworths ra...\n",
       "176  mackinprof i ve had a bunch of patients that c...\n",
       "187                       claramente todo normal xdddd\n",
       "336  convomfs wahahaha muncul kepala gua putus nger...\n",
       "422  jam drive jaga saif mintak air lepas air nak t..."
      ]
     },
     "execution_count": 9,
     "metadata": {},
     "output_type": "execute_result"
    }
   ],
   "source": [
    "df = pd.DataFrame(df['stemming_data'])\n",
    "print(type(df))\n",
    "df.sample(5)"
   ]
  },
  {
   "cell_type": "code",
   "execution_count": 10,
   "metadata": {},
   "outputs": [],
   "source": [
    "import nltk\n",
    "from nltk.sentiment import SentimentIntensityAnalyzer\n",
    "\n",
    "# nltk.download(['punkt','vader_lexicon'])"
   ]
  },
  {
   "cell_type": "code",
   "execution_count": 11,
   "metadata": {},
   "outputs": [
    {
     "data": {
      "text/html": [
       "<div>\n",
       "<style scoped>\n",
       "    .dataframe tbody tr th:only-of-type {\n",
       "        vertical-align: middle;\n",
       "    }\n",
       "\n",
       "    .dataframe tbody tr th {\n",
       "        vertical-align: top;\n",
       "    }\n",
       "\n",
       "    .dataframe thead th {\n",
       "        text-align: right;\n",
       "    }\n",
       "</style>\n",
       "<table border=\"1\" class=\"dataframe\">\n",
       "  <thead>\n",
       "    <tr style=\"text-align: right;\">\n",
       "      <th></th>\n",
       "      <th>stemming_data</th>\n",
       "      <th>sentiment_score</th>\n",
       "      <th>sentiment</th>\n",
       "    </tr>\n",
       "  </thead>\n",
       "  <tbody>\n",
       "    <tr>\n",
       "      <th>259</th>\n",
       "      <td>ya allah lulusin ak utbk biar ak bs leluasa ma...</td>\n",
       "      <td>0.000</td>\n",
       "      <td>netral</td>\n",
       "    </tr>\n",
       "    <tr>\n",
       "      <th>266</th>\n",
       "      <td>duros esos panas</td>\n",
       "      <td>0.000</td>\n",
       "      <td>netral</td>\n",
       "    </tr>\n",
       "    <tr>\n",
       "      <th>254</th>\n",
       "      <td>aqu de colegueo con los panas httpstcoyytotqzv</td>\n",
       "      <td>0.000</td>\n",
       "      <td>netral</td>\n",
       "    </tr>\n",
       "    <tr>\n",
       "      <th>283</th>\n",
       "      <td>yo siempre eh dicho que son panas de uno la ge...</td>\n",
       "      <td>-0.296</td>\n",
       "      <td>negatif</td>\n",
       "    </tr>\n",
       "    <tr>\n",
       "      <th>339</th>\n",
       "      <td>hioghak no lo conozco solo pens que tenias uno...</td>\n",
       "      <td>-0.296</td>\n",
       "      <td>negatif</td>\n",
       "    </tr>\n",
       "  </tbody>\n",
       "</table>\n",
       "</div>"
      ],
      "text/plain": [
       "                                         stemming_data  sentiment_score  \\\n",
       "259  ya allah lulusin ak utbk biar ak bs leluasa ma...            0.000   \n",
       "266                                   duros esos panas            0.000   \n",
       "254     aqu de colegueo con los panas httpstcoyytotqzv            0.000   \n",
       "283  yo siempre eh dicho que son panas de uno la ge...           -0.296   \n",
       "339  hioghak no lo conozco solo pens que tenias uno...           -0.296   \n",
       "\n",
       "    sentiment  \n",
       "259    netral  \n",
       "266    netral  \n",
       "254    netral  \n",
       "283   negatif  \n",
       "339   negatif  "
      ]
     },
     "execution_count": 11,
     "metadata": {},
     "output_type": "execute_result"
    }
   ],
   "source": [
    "sia = SentimentIntensityAnalyzer()\n",
    "\n",
    "labels = []\n",
    "scores = []\n",
    "\n",
    "for text in df['stemming_data']:\n",
    "    sentiment_scores = sia.polarity_scores(text)\n",
    "    compound_score = sentiment_scores['compound']\n",
    "\n",
    "    scores.append(compound_score)\n",
    "\n",
    "    if compound_score > 0:\n",
    "        label = 'positif'\n",
    "    elif compound_score < 0:\n",
    "        label = 'negatif'\n",
    "    else:\n",
    "        label = 'netral'\n",
    "\n",
    "    labels.append(label)\n",
    "\n",
    "df['sentiment_score'] = scores\n",
    "df['sentiment'] = labels\n",
    "\n",
    "df.sample(5)"
   ]
  },
  {
   "cell_type": "markdown",
   "metadata": {},
   "source": [
    "# VISUALISASI DATA"
   ]
  },
  {
   "cell_type": "code",
   "execution_count": 16,
   "metadata": {},
   "outputs": [
    {
     "data": {
      "image/png": "[encoded data removed]",
      "text/plain": [
       "<Figure size 600x400 with 1 Axes>"
      ]
     },
     "metadata": {},
     "output_type": "display_data"
    }
   ],
   "source": [
    "sentiment_count = df['sentiment'].value_counts()\n",
    "\n",
    "# sns.set_style('whitegrid')\n",
    "\n",
    "fig, ax = plt.subplots(figsize=(6,4))\n",
    "ax = sns.barplot(x=sentiment_count.index, y=sentiment_count.values, palette='pastel')\n",
    "plt.title('Jumlah Analisis Sentimen', fontsize=14, pad=20)\n",
    "plt.xlabel('Class Sentiment', fontsize=12)\n",
    "plt.ylabel('Jumlah Tweet', fontsize=12)\n",
    "\n",
    "for i, count in enumerate(sentiment_count.values):\n",
    "    ax.text(i, count+0.10, str(count), va='bottom',ha='center')\n",
    "\n",
    "plt.show()"
   ]
  },
  {
   "cell_type": "markdown",
   "metadata": {},
   "source": [
    "# Save Data to CSV"
   ]
  },
  {
   "cell_type": "code",
   "execution_count": null,
   "metadata": {},
   "outputs": [],
   "source": [
    "df.to_csv('Hasil_Labeling_DataPanasBumi_nltk.csv', encoding='utf8', index=False)"
   ]
  }
 ],
 "metadata": {
  "kernelspec": {
   "display_name": "base",
   "language": "python",
   "name": "python3"
  },
  "language_info": {
   "codemirror_mode": {
    "name": "ipython",
    "version": 3
   },
   "file_extension": ".py",
   "mimetype": "text/x-python",
   "name": "python",
   "nbconvert_exporter": "python",
   "pygments_lexer": "ipython3",
   "version": "3.11.4"
  }
 },
 "nbformat": 4,
 "nbformat_minor": 2
}
