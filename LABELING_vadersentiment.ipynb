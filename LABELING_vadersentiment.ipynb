{
 "cells": [
  {
   "cell_type": "markdown",
   "metadata": {},
   "source": [
    "# Load Data"
   ]
  },
  {
   "cell_type": "code",
   "execution_count": 1,
   "metadata": {},
   "outputs": [],
   "source": [
    "# import libraries\n",
    "import pandas as pd\n",
    "import seaborn as sns\n",
    "import matplotlib.pyplot as plt\n",
    "%matplotlib inline\n",
    "import warnings\n",
    "warnings.filterwarnings('ignore')"
   ]
  },
  {
   "cell_type": "code",
   "execution_count": 2,
   "metadata": {},
   "outputs": [
    {
     "data": {
      "text/html": [
       "<div>\n",
       "<style scoped>\n",
       "    .dataframe tbody tr th:only-of-type {\n",
       "        vertical-align: middle;\n",
       "    }\n",
       "\n",
       "    .dataframe tbody tr th {\n",
       "        vertical-align: top;\n",
       "    }\n",
       "\n",
       "    .dataframe thead th {\n",
       "        text-align: right;\n",
       "    }\n",
       "</style>\n",
       "<table border=\"1\" class=\"dataframe\">\n",
       "  <thead>\n",
       "    <tr style=\"text-align: right;\">\n",
       "      <th></th>\n",
       "      <th>full_text</th>\n",
       "      <th>cleansing</th>\n",
       "      <th>Tokenization and Case Folding</th>\n",
       "      <th>Filtering / Stopword removal</th>\n",
       "      <th>stemming_data</th>\n",
       "    </tr>\n",
       "  </thead>\n",
       "  <tbody>\n",
       "    <tr>\n",
       "      <th>256</th>\n",
       "      <td>@banjarbase B apa sarumah wn mntuha Wan kuitan...</td>\n",
       "      <td>banjarbase B apa sarumah wn mntuha Wan kuitan ...</td>\n",
       "      <td>['banjarbase', 'b', 'apa', 'sarumah', 'wn', 'm...</td>\n",
       "      <td>['banjarbase', 'b', 'sarumah', 'wn', 'mntuha',...</td>\n",
       "      <td>banjarbase b sarumah wn mntuha wan kuit sauran...</td>\n",
       "    </tr>\n",
       "    <tr>\n",
       "      <th>412</th>\n",
       "      <td>@T_E_S_L_A_ @trschatz51 todos son unos narcos ...</td>\n",
       "      <td>TESLA trschatz todos son unos narcos o panas d...</td>\n",
       "      <td>['tesla', 'trschatz', 'todos', 'son', 'unos', ...</td>\n",
       "      <td>['tesla', 'trschatz', 'todos', 'son', 'unos', ...</td>\n",
       "      <td>tesla trschatz todos son unos narcos o panas d...</td>\n",
       "    </tr>\n",
       "    <tr>\n",
       "      <th>350</th>\n",
       "      <td>@herricahyadi Kalau hujan pakai jas hujan atau...</td>\n",
       "      <td>herricahyadi Kalau hujan pakai jas hujan atau ...</td>\n",
       "      <td>['herricahyadi', 'kalau', 'hujan', 'pakai', 'j...</td>\n",
       "      <td>['herricahyadi', 'hujan', 'pakai', 'jas', 'huj...</td>\n",
       "      <td>herricahyadi hujan pakai jas hujan payung kalo...</td>\n",
       "    </tr>\n",
       "    <tr>\n",
       "      <th>22</th>\n",
       "      <td>[Cm] Real cuy mana panas-panasan lagi, sampe k...</td>\n",
       "      <td>Cm Real cuy mana panaspanasan lagi sampe ke ka...</td>\n",
       "      <td>['cm', 'real', 'cuy', 'mana', 'panaspanasan', ...</td>\n",
       "      <td>['cm', 'real', 'cuy', 'panaspanasan', 'sampe',...</td>\n",
       "      <td>cm real cuy panaspanasan sampe kampus sempet d...</td>\n",
       "    </tr>\n",
       "    <tr>\n",
       "      <th>275</th>\n",
       "      <td>@Malaythai11 yg komen2 panas tu nape busuk hat...</td>\n",
       "      <td>Malaythai yg komen panas tu nape busuk hati dg...</td>\n",
       "      <td>['malaythai', 'yg', 'komen', 'panas', 'tu', 'n...</td>\n",
       "      <td>['malaythai', 'yg', 'komen', 'panas', 'tu', 'n...</td>\n",
       "      <td>malaythai yg komen panas tu nape busuk hati dg...</td>\n",
       "    </tr>\n",
       "  </tbody>\n",
       "</table>\n",
       "</div>"
      ],
      "text/plain": [
       "                                             full_text  \\\n",
       "256  @banjarbase B apa sarumah wn mntuha Wan kuitan...   \n",
       "412  @T_E_S_L_A_ @trschatz51 todos son unos narcos ...   \n",
       "350  @herricahyadi Kalau hujan pakai jas hujan atau...   \n",
       "22   [Cm] Real cuy mana panas-panasan lagi, sampe k...   \n",
       "275  @Malaythai11 yg komen2 panas tu nape busuk hat...   \n",
       "\n",
       "                                             cleansing  \\\n",
       "256  banjarbase B apa sarumah wn mntuha Wan kuitan ...   \n",
       "412  TESLA trschatz todos son unos narcos o panas d...   \n",
       "350  herricahyadi Kalau hujan pakai jas hujan atau ...   \n",
       "22   Cm Real cuy mana panaspanasan lagi sampe ke ka...   \n",
       "275  Malaythai yg komen panas tu nape busuk hati dg...   \n",
       "\n",
       "                         Tokenization and Case Folding  \\\n",
       "256  ['banjarbase', 'b', 'apa', 'sarumah', 'wn', 'm...   \n",
       "412  ['tesla', 'trschatz', 'todos', 'son', 'unos', ...   \n",
       "350  ['herricahyadi', 'kalau', 'hujan', 'pakai', 'j...   \n",
       "22   ['cm', 'real', 'cuy', 'mana', 'panaspanasan', ...   \n",
       "275  ['malaythai', 'yg', 'komen', 'panas', 'tu', 'n...   \n",
       "\n",
       "                          Filtering / Stopword removal  \\\n",
       "256  ['banjarbase', 'b', 'sarumah', 'wn', 'mntuha',...   \n",
       "412  ['tesla', 'trschatz', 'todos', 'son', 'unos', ...   \n",
       "350  ['herricahyadi', 'hujan', 'pakai', 'jas', 'huj...   \n",
       "22   ['cm', 'real', 'cuy', 'panaspanasan', 'sampe',...   \n",
       "275  ['malaythai', 'yg', 'komen', 'panas', 'tu', 'n...   \n",
       "\n",
       "                                         stemming_data  \n",
       "256  banjarbase b sarumah wn mntuha wan kuit sauran...  \n",
       "412  tesla trschatz todos son unos narcos o panas d...  \n",
       "350  herricahyadi hujan pakai jas hujan payung kalo...  \n",
       "22   cm real cuy panaspanasan sampe kampus sempet d...  \n",
       "275  malaythai yg komen panas tu nape busuk hati dg...  "
      ]
     },
     "execution_count": 2,
     "metadata": {},
     "output_type": "execute_result"
    }
   ],
   "source": [
    "path = 'I:\\data_analyst\\Data Crawler\\Data x 1\\Hasil_Preprocessing_DataPanasBumi.csv'\n",
    "df = pd.read_csv(path)\n",
    "df.sample(5)"
   ]
  },
  {
   "cell_type": "code",
   "execution_count": 3,
   "metadata": {},
   "outputs": [
    {
     "name": "stdout",
     "output_type": "stream",
     "text": [
      "<class 'pandas.core.frame.DataFrame'>\n",
      "RangeIndex: 445 entries, 0 to 444\n",
      "Data columns (total 5 columns):\n",
      " #   Column                         Non-Null Count  Dtype \n",
      "---  ------                         --------------  ----- \n",
      " 0   full_text                      445 non-null    object\n",
      " 1   cleansing                      445 non-null    object\n",
      " 2   Tokenization and Case Folding  445 non-null    object\n",
      " 3   Filtering / Stopword removal   445 non-null    object\n",
      " 4   stemming_data                  445 non-null    object\n",
      "dtypes: object(5)\n",
      "memory usage: 17.5+ KB\n"
     ]
    }
   ],
   "source": [
    "df.info()"
   ]
  },
  {
   "cell_type": "code",
   "execution_count": 4,
   "metadata": {},
   "outputs": [
    {
     "name": "stdout",
     "output_type": "stream",
     "text": [
      "<class 'pandas.core.frame.DataFrame'>\n"
     ]
    },
    {
     "data": {
      "text/html": [
       "<div>\n",
       "<style scoped>\n",
       "    .dataframe tbody tr th:only-of-type {\n",
       "        vertical-align: middle;\n",
       "    }\n",
       "\n",
       "    .dataframe tbody tr th {\n",
       "        vertical-align: top;\n",
       "    }\n",
       "\n",
       "    .dataframe thead th {\n",
       "        text-align: right;\n",
       "    }\n",
       "</style>\n",
       "<table border=\"1\" class=\"dataframe\">\n",
       "  <thead>\n",
       "    <tr style=\"text-align: right;\">\n",
       "      <th></th>\n",
       "      <th>stemming_data</th>\n",
       "    </tr>\n",
       "  </thead>\n",
       "  <tbody>\n",
       "    <tr>\n",
       "      <th>418</th>\n",
       "      <td>riyanto chroniclea maksud fasilitas tunjang mo...</td>\n",
       "    </tr>\n",
       "    <tr>\n",
       "      <th>59</th>\n",
       "      <td>nuuurani tertaqwa panas yh telinga ku</td>\n",
       "    </tr>\n",
       "    <tr>\n",
       "      <th>69</th>\n",
       "      <td>yoschda abis beberes el panas mandi kalo ga be...</td>\n",
       "    </tr>\n",
       "    <tr>\n",
       "      <th>66</th>\n",
       "      <td>kitcat abis beberes tauk monn panas mandi lagiii</td>\n",
       "    </tr>\n",
       "    <tr>\n",
       "      <th>156</th>\n",
       "      <td>gua jg tuju trotoar jpo atap batam pohon gede ...</td>\n",
       "    </tr>\n",
       "  </tbody>\n",
       "</table>\n",
       "</div>"
      ],
      "text/plain": [
       "                                         stemming_data\n",
       "418  riyanto chroniclea maksud fasilitas tunjang mo...\n",
       "59               nuuurani tertaqwa panas yh telinga ku\n",
       "69   yoschda abis beberes el panas mandi kalo ga be...\n",
       "66    kitcat abis beberes tauk monn panas mandi lagiii\n",
       "156  gua jg tuju trotoar jpo atap batam pohon gede ..."
      ]
     },
     "execution_count": 4,
     "metadata": {},
     "output_type": "execute_result"
    }
   ],
   "source": [
    "df = pd.DataFrame(df['stemming_data'])\n",
    "print(type(df))\n",
    "df.sample(5)"
   ]
  },
  {
   "cell_type": "code",
   "execution_count": 5,
   "metadata": {},
   "outputs": [],
   "source": [
    "# !pip install VaderSentiment"
   ]
  },
  {
   "cell_type": "code",
   "execution_count": 6,
   "metadata": {},
   "outputs": [],
   "source": [
    "from vaderSentiment.vaderSentiment import SentimentIntensityAnalyzer\n",
    "sia = SentimentIntensityAnalyzer()"
   ]
  },
  {
   "cell_type": "code",
   "execution_count": 7,
   "metadata": {},
   "outputs": [
    {
     "data": {
      "text/html": [
       "<div>\n",
       "<style scoped>\n",
       "    .dataframe tbody tr th:only-of-type {\n",
       "        vertical-align: middle;\n",
       "    }\n",
       "\n",
       "    .dataframe tbody tr th {\n",
       "        vertical-align: top;\n",
       "    }\n",
       "\n",
       "    .dataframe thead th {\n",
       "        text-align: right;\n",
       "    }\n",
       "</style>\n",
       "<table border=\"1\" class=\"dataframe\">\n",
       "  <thead>\n",
       "    <tr style=\"text-align: right;\">\n",
       "      <th></th>\n",
       "      <th>stemming_data</th>\n",
       "      <th>Compound_Score</th>\n",
       "    </tr>\n",
       "  </thead>\n",
       "  <tbody>\n",
       "    <tr>\n",
       "      <th>204</th>\n",
       "      <td>eduardomenoni no hables as de tus panas calich...</td>\n",
       "      <td>-0.5267</td>\n",
       "    </tr>\n",
       "    <tr>\n",
       "      <th>203</th>\n",
       "      <td>moga matahari panas jemur kering</td>\n",
       "      <td>0.0000</td>\n",
       "    </tr>\n",
       "    <tr>\n",
       "      <th>182</th>\n",
       "      <td>carinosocatador robertsw yo le digo eso a los ...</td>\n",
       "      <td>0.0000</td>\n",
       "    </tr>\n",
       "    <tr>\n",
       "      <th>215</th>\n",
       "      <td>estebanavila los negocios de los panas de la fef</td>\n",
       "      <td>0.0000</td>\n",
       "    </tr>\n",
       "    <tr>\n",
       "      <th>179</th>\n",
       "      <td>ya ga heran sih kalo badan panas kemarin udah ...</td>\n",
       "      <td>-0.2732</td>\n",
       "    </tr>\n",
       "  </tbody>\n",
       "</table>\n",
       "</div>"
      ],
      "text/plain": [
       "                                         stemming_data  Compound_Score\n",
       "204  eduardomenoni no hables as de tus panas calich...         -0.5267\n",
       "203                  moga matahari panas jemur kering           0.0000\n",
       "182  carinosocatador robertsw yo le digo eso a los ...          0.0000\n",
       "215   estebanavila los negocios de los panas de la fef          0.0000\n",
       "179  ya ga heran sih kalo badan panas kemarin udah ...         -0.2732"
      ]
     },
     "execution_count": 7,
     "metadata": {},
     "output_type": "execute_result"
    }
   ],
   "source": [
    "scores = [sia.polarity_scores(x) for x in df['stemming_data']]\n",
    "df['Compound_Score'] = [x['compound'] for x in scores]\n",
    "\n",
    "df.sample(5)"
   ]
  },
  {
   "cell_type": "code",
   "execution_count": 8,
   "metadata": {},
   "outputs": [
    {
     "data": {
      "text/html": [
       "<div>\n",
       "<style scoped>\n",
       "    .dataframe tbody tr th:only-of-type {\n",
       "        vertical-align: middle;\n",
       "    }\n",
       "\n",
       "    .dataframe tbody tr th {\n",
       "        vertical-align: top;\n",
       "    }\n",
       "\n",
       "    .dataframe thead th {\n",
       "        text-align: right;\n",
       "    }\n",
       "</style>\n",
       "<table border=\"1\" class=\"dataframe\">\n",
       "  <thead>\n",
       "    <tr style=\"text-align: right;\">\n",
       "      <th></th>\n",
       "      <th>stemming_data</th>\n",
       "      <th>Compound_Score</th>\n",
       "      <th>sentiment</th>\n",
       "    </tr>\n",
       "  </thead>\n",
       "  <tbody>\n",
       "    <tr>\n",
       "      <th>277</th>\n",
       "      <td>mykhaylo mudryk mco vs leeds gol disparos al m...</td>\n",
       "      <td>0.0</td>\n",
       "      <td>netral</td>\n",
       "    </tr>\n",
       "    <tr>\n",
       "      <th>84</th>\n",
       "      <td>tgunwook panas</td>\n",
       "      <td>0.0</td>\n",
       "      <td>netral</td>\n",
       "    </tr>\n",
       "    <tr>\n",
       "      <th>62</th>\n",
       "      <td>pagi pagi udh panas gerah mamaaaaaa</td>\n",
       "      <td>0.0</td>\n",
       "      <td>netral</td>\n",
       "    </tr>\n",
       "    <tr>\n",
       "      <th>4</th>\n",
       "      <td>teknologi nama payung topi drpd jpo diatapin m...</td>\n",
       "      <td>0.0</td>\n",
       "      <td>netral</td>\n",
       "    </tr>\n",
       "    <tr>\n",
       "      <th>418</th>\n",
       "      <td>riyanto chroniclea maksud fasilitas tunjang mo...</td>\n",
       "      <td>0.0</td>\n",
       "      <td>netral</td>\n",
       "    </tr>\n",
       "  </tbody>\n",
       "</table>\n",
       "</div>"
      ],
      "text/plain": [
       "                                         stemming_data  Compound_Score  \\\n",
       "277  mykhaylo mudryk mco vs leeds gol disparos al m...             0.0   \n",
       "84                                      tgunwook panas             0.0   \n",
       "62                 pagi pagi udh panas gerah mamaaaaaa             0.0   \n",
       "4    teknologi nama payung topi drpd jpo diatapin m...             0.0   \n",
       "418  riyanto chroniclea maksud fasilitas tunjang mo...             0.0   \n",
       "\n",
       "    sentiment  \n",
       "277    netral  \n",
       "84     netral  \n",
       "62     netral  \n",
       "4      netral  \n",
       "418    netral  "
      ]
     },
     "execution_count": 8,
     "metadata": {},
     "output_type": "execute_result"
    }
   ],
   "source": [
    "df.loc[df['Compound_Score'] < 0, 'sentiment'] = 'negatif'\n",
    "df.loc[df['Compound_Score'] == 0, 'sentiment'] = 'netral'\n",
    "df.loc[df['Compound_Score'] > 0, 'sentiment'] = 'positif'\n",
    "\n",
    "df.sample(5)"
   ]
  },
  {
   "cell_type": "markdown",
   "metadata": {},
   "source": [
    "# VISUALISASI DATA"
   ]
  },
  {
   "cell_type": "code",
   "execution_count": 9,
   "metadata": {},
   "outputs": [
    {
     "data": {
      "image/png": "[encoded data removed]",
      "text/plain": [
       "<Figure size 600x400 with 1 Axes>"
      ]
     },
     "metadata": {},
     "output_type": "display_data"
    }
   ],
   "source": [
    "sentiment_count = df['sentiment'].value_counts()\n",
    "\n",
    "# sns.set_style('whitegrid')\n",
    "\n",
    "fig, ax = plt.subplots(figsize=(6,4))\n",
    "ax = sns.barplot(x=sentiment_count.index, y=sentiment_count.values, palette='pastel')\n",
    "plt.title('Jumlah Analisis Sentimen', fontsize=14, pad=20)\n",
    "plt.xlabel('Class Sentiment', fontsize=12)\n",
    "plt.ylabel('Jumlah Tweet', fontsize=12)\n",
    "\n",
    "for i, count in enumerate(sentiment_count.values):\n",
    "    ax.text(i, count+0.10, str(count), va='bottom',ha='center')\n",
    "\n",
    "plt.show()"
   ]
  },
  {
   "cell_type": "markdown",
   "metadata": {},
   "source": [
    "# Save Data to CSV"
   ]
  },
  {
   "cell_type": "code",
   "execution_count": 10,
   "metadata": {},
   "outputs": [],
   "source": [
    "df.to_csv('Hasil_Labeling_DataPanasBumi_vadersentiment.csv', encoding='utf8', index=False)"
   ]
  }
 ],
 "metadata": {
  "kernelspec": {
   "display_name": "base",
   "language": "python",
   "name": "python3"
  },
  "language_info": {
   "codemirror_mode": {
    "name": "ipython",
    "version": 3
   },
   "file_extension": ".py",
   "mimetype": "text/x-python",
   "name": "python",
   "nbconvert_exporter": "python",
   "pygments_lexer": "ipython3",
   "version": "3.11.4"
  }
 },
 "nbformat": 4,
 "nbformat_minor": 2
}
